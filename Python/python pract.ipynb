{
 "cells": [
  {
   "cell_type": "markdown",
   "id": "40fb7a31",
   "metadata": {},
   "source": [
    "# Print"
   ]
  },
  {
   "cell_type": "code",
   "execution_count": 1,
   "id": "80d59a82",
   "metadata": {},
   "outputs": [
    {
     "name": "stdout",
     "output_type": "stream",
     "text": [
      "HEllo\n"
     ]
    }
   ],
   "source": [
    "print(\"HEllo\")"
   ]
  },
  {
   "cell_type": "code",
   "execution_count": 2,
   "id": "f955858c",
   "metadata": {},
   "outputs": [
    {
     "name": "stdout",
     "output_type": "stream",
     "text": [
      "Hello Satish\n",
      "HiiSatish\n",
      "Hii Satish How are you\n"
     ]
    }
   ],
   "source": [
    "\"\"\"\n",
    "Hello\n",
    "This is a Multiline Comment also known as docstring\n",
    "To print this comment from a function use\n",
    "print(functionname.__doc__)\n",
    "\"\"\"\n",
    "\n",
    "name = \"Satish\"\n",
    "print(\"Hello\",name) #add space\n",
    "print(\"Hii\"+name)\n",
    "print(f\"Hii {name} How are you\")\n",
    "print()"
   ]
  },
  {
   "cell_type": "markdown",
   "id": "2b042886",
   "metadata": {},
   "source": [
    "# Input"
   ]
  },
  {
   "cell_type": "code",
   "execution_count": 3,
   "id": "3ca88318",
   "metadata": {},
   "outputs": [
    {
     "name": "stdout",
     "output_type": "stream",
     "text": [
      "Enter your name : Satish\n"
     ]
    }
   ],
   "source": [
    "name = input(\"Enter your name : \")"
   ]
  },
  {
   "cell_type": "code",
   "execution_count": 5,
   "id": "e625c8c9",
   "metadata": {},
   "outputs": [
    {
     "name": "stdout",
     "output_type": "stream",
     "text": [
      "Enter your name: Satish\n",
      "Enter your age: 22\n",
      "Enter your marks: 90\n",
      "The name is: Satish\n",
      "The age is: 22\n",
      "The marks is: 90.0\n"
     ]
    }
   ],
   "source": [
    "name = input(\"Enter your name: \")  # String Input  \n",
    "age = int(input(\"Enter your age: \")) # Integer Input  \n",
    "marks = float(input(\"Enter your marks: \")) # Float Input  \n",
    "print(\"The name is:\", name)  \n",
    "print(\"The age is:\", age)  \n",
    "print(\"The marks is:\", marks)  "
   ]
  },
  {
   "cell_type": "markdown",
   "id": "37b47516",
   "metadata": {},
   "source": [
    "Variables"
   ]
  },
  {
   "cell_type": "code",
   "execution_count": 6,
   "id": "ef36a229",
   "metadata": {},
   "outputs": [
    {
     "name": "stdout",
     "output_type": "stream",
     "text": [
      "Satish\n"
     ]
    }
   ],
   "source": [
    "x,y,z = \"Satish\",\"Harsh\",\"Rohan\"\n",
    "print(x)"
   ]
  },
  {
   "cell_type": "code",
   "execution_count": 7,
   "id": "f3054cad",
   "metadata": {},
   "outputs": [
    {
     "name": "stdout",
     "output_type": "stream",
     "text": [
      "Satish\n"
     ]
    }
   ],
   "source": [
    "x = y = z = \"Satish\"\n",
    "print(y)"
   ]
  },
  {
   "cell_type": "markdown",
   "id": "6f5ba594",
   "metadata": {},
   "source": [
    "Control Structures : If else, while, for"
   ]
  },
  {
   "cell_type": "code",
   "execution_count": 8,
   "id": "b2ede3ed",
   "metadata": {},
   "outputs": [
    {
     "name": "stdout",
     "output_type": "stream",
     "text": [
      "Hello\n"
     ]
    }
   ],
   "source": [
    "a,b = 10,20\n",
    "if(a>b):\n",
    "    print(\"Hii\")\n",
    "else:\n",
    "    print(\"Hello\")"
   ]
  },
  {
   "cell_type": "code",
   "execution_count": 10,
   "id": "0d268740",
   "metadata": {},
   "outputs": [
    {
     "name": "stdout",
     "output_type": "stream",
     "text": [
      "0\n",
      "1\n",
      "2\n"
     ]
    }
   ],
   "source": [
    "a = 3\n",
    "b = 0\n",
    "while(b<3):\n",
    "    print(b)\n",
    "    b+=1"
   ]
  },
  {
   "cell_type": "code",
   "execution_count": 16,
   "id": "59fea8d0",
   "metadata": {},
   "outputs": [
    {
     "name": "stdout",
     "output_type": "stream",
     "text": [
      "0\n",
      "1\n",
      "2\n",
      "3\n",
      "4\n",
      "5\n"
     ]
    }
   ],
   "source": [
    "x = range(6)\n",
    "for n in x:\n",
    "    print(n)"
   ]
  },
  {
   "cell_type": "code",
   "execution_count": 15,
   "id": "0783faff",
   "metadata": {},
   "outputs": [
    {
     "name": "stdout",
     "output_type": "stream",
     "text": [
      "0\n",
      "1\n",
      "2\n",
      "3\n"
     ]
    }
   ],
   "source": [
    "for i in range(0,4):\n",
    "    print(i)"
   ]
  },
  {
   "cell_type": "code",
   "execution_count": 14,
   "id": "94ff59ac",
   "metadata": {},
   "outputs": [
    {
     "name": "stdout",
     "output_type": "stream",
     "text": [
      "3\n",
      "2\n",
      "1\n",
      "0\n"
     ]
    }
   ],
   "source": [
    "for i in range(3,-1,-1):\n",
    "    print(i)"
   ]
  },
  {
   "cell_type": "markdown",
   "id": "f2c8ad77",
   "metadata": {},
   "source": [
    "Typecasting"
   ]
  },
  {
   "cell_type": "code",
   "execution_count": null,
   "id": "192bcfde",
   "metadata": {},
   "outputs": [],
   "source": [
    "x = str(3)    # x will be '3'\n",
    "print(x)\n",
    "type(x)"
   ]
  },
  {
   "cell_type": "code",
   "execution_count": null,
   "id": "b1414f48",
   "metadata": {},
   "outputs": [],
   "source": [
    "y = int(3)    # y will be 3\n",
    "print(y)\n",
    "type(y)"
   ]
  },
  {
   "cell_type": "code",
   "execution_count": null,
   "id": "5d41e67c",
   "metadata": {},
   "outputs": [],
   "source": [
    "z = float(3)  # z will be 3.0\n",
    "print(z)\n",
    "type(z)"
   ]
  },
  {
   "cell_type": "markdown",
   "id": "f52e5ab8",
   "metadata": {},
   "source": [
    "Strings"
   ]
  },
  {
   "cell_type": "code",
   "execution_count": null,
   "id": "0d5e8dad",
   "metadata": {},
   "outputs": [],
   "source": []
  },
  {
   "cell_type": "markdown",
   "id": "6679017c",
   "metadata": {},
   "source": [
    "Looping"
   ]
  },
  {
   "cell_type": "code",
   "execution_count": null,
   "id": "ed4793e9",
   "metadata": {},
   "outputs": [],
   "source": []
  },
  {
   "cell_type": "markdown",
   "id": "b00b7947",
   "metadata": {},
   "source": [
    "Exception Handling"
   ]
  },
  {
   "cell_type": "markdown",
   "id": "92527612",
   "metadata": {},
   "source": [
    "Three type of errors\n",
    "1. Compile time error - Syntax error\n",
    "2. Run time\n",
    "3. Logical error"
   ]
  },
  {
   "cell_type": "markdown",
   "id": "99e1e135",
   "metadata": {},
   "source": [
    "# Exception happens at runtime\n",
    "In Python ,built in  exceptions from BaseException\n",
    "\n",
    "try:\n",
    "    statements\n",
    "except errorname:\n",
    "    statements\n",
    "    or \n",
    "except errorname as e:\n",
    "    print(e)\n",
    "else:\n",
    "    statements\n",
    "finnaly:\n",
    "    statements\n",
    "    \n",
    "exception handling will keep running the program even if there are errors\n"
   ]
  },
  {
   "cell_type": "code",
   "execution_count": 12,
   "id": "e17654a3",
   "metadata": {},
   "outputs": [
    {
     "name": "stdout",
     "output_type": "stream",
     "text": [
      "Type Mismatch\n",
      "('Sum of a and b is', 3)\n"
     ]
    }
   ],
   "source": [
    "def concate(a,b):\n",
    "    try:\n",
    "        return \"Sum of a and b is\",a+b\n",
    "    except TypeError:\n",
    "        return \"Type Mismatch\"\n",
    "print(concate(1,\"S\"))\n",
    "print(concate(1,2))"
   ]
  },
  {
   "cell_type": "code",
   "execution_count": null,
   "id": "686d28dc",
   "metadata": {},
   "outputs": [],
   "source": []
  },
  {
   "cell_type": "markdown",
   "id": "22323ab1",
   "metadata": {},
   "source": [
    "# Functions, Modules, Imports"
   ]
  },
  {
   "cell_type": "markdown",
   "id": "9f713a4a",
   "metadata": {},
   "source": [
    "What is a function?\n",
    "Function contains a group of statements to perform a task"
   ]
  },
  {
   "cell_type": "markdown",
   "id": "5b7c1d80",
   "metadata": {},
   "source": [
    "Advantages of functions?\n",
    "- reusable\n",
    "- modularity"
   ]
  },
  {
   "cell_type": "code",
   "execution_count": 7,
   "id": "d1d67c44",
   "metadata": {},
   "outputs": [
    {
     "name": "stdout",
     "output_type": "stream",
     "text": [
      "Enter no1 : 2\n",
      "Enter no2 : 3\n",
      "Sum of a and b is  5\n"
     ]
    }
   ],
   "source": [
    "a = int(input(\"Enter no1 : \"))\n",
    "b = int(input(\"Enter no2 : \"))\n",
    "def concate(a,b):\n",
    "    return a+b\n",
    "print(\"Sum of a and b is \",concate(a,b))"
   ]
  },
  {
   "cell_type": "code",
   "execution_count": 21,
   "id": "89598fae",
   "metadata": {},
   "outputs": [
    {
     "name": "stdout",
     "output_type": "stream",
     "text": [
      "120\n"
     ]
    }
   ],
   "source": [
    "def fact(n):\n",
    "    \"\"\"\"\"\"\n",
    "    for i in range(1,n):\n",
    "        n*=i\n",
    "    return n\n",
    "f = fact(5)\n",
    "print(f)"
   ]
  },
  {
   "cell_type": "code",
   "execution_count": 22,
   "id": "643ff21a",
   "metadata": {},
   "outputs": [
    {
     "name": "stdout",
     "output_type": "stream",
     "text": [
      "120\n"
     ]
    }
   ],
   "source": [
    "def fact(n):\n",
    "    \"\"\"\"\"\"\n",
    "    ans = 1\n",
    "    while(n>=1):\n",
    "        ans = ans * n\n",
    "        n-=1\n",
    "    return ans\n",
    "f = fact(5)\n",
    "print(f)"
   ]
  },
  {
   "cell_type": "markdown",
   "id": "cf040774",
   "metadata": {},
   "source": [
    "How to return multiple values from python?\n",
    "Python return multiple values in tuple"
   ]
  },
  {
   "cell_type": "code",
   "execution_count": 31,
   "id": "30b91f4c",
   "metadata": {},
   "outputs": [
    {
     "name": "stdout",
     "output_type": "stream",
     "text": [
      "30\n",
      "10\n"
     ]
    }
   ],
   "source": [
    "def sum_sub(a,b):\n",
    "    c = a+b\n",
    "    d = a-b\n",
    "    return c,d\n",
    "c,d = sum_sub(20,10)\n",
    "print(c)\n",
    "print(d)"
   ]
  },
  {
   "cell_type": "markdown",
   "id": "35b36ed6",
   "metadata": {},
   "source": [
    "To take n no of arguments\n",
    "def fname(fa,*args)\n",
    "To have key value pair dictionary\n",
    "def fname(fa,**kwargs)"
   ]
  },
  {
   "cell_type": "code",
   "execution_count": null,
   "id": "eef5e6e2",
   "metadata": {},
   "outputs": [],
   "source": []
  },
  {
   "cell_type": "markdown",
   "id": "6dea966c",
   "metadata": {},
   "source": [
    "Recursion & Memoization\n"
   ]
  },
  {
   "cell_type": "code",
   "execution_count": null,
   "id": "0c301e9f",
   "metadata": {},
   "outputs": [],
   "source": []
  },
  {
   "cell_type": "markdown",
   "id": "b57c3df2",
   "metadata": {},
   "source": [
    "Lambda or anoymous function\n",
    "syntax -> lambda argument_list: function\n",
    "ex -> lambda x : x*x\n",
    "filter()\n",
    "map()\n",
    "reduce()"
   ]
  },
  {
   "cell_type": "code",
   "execution_count": null,
   "id": "d7123b23",
   "metadata": {},
   "outputs": [],
   "source": []
  },
  {
   "cell_type": "markdown",
   "id": "6f3517ea",
   "metadata": {},
   "source": [
    "Function Decorators"
   ]
  },
  {
   "cell_type": "code",
   "execution_count": null,
   "id": "7e001366",
   "metadata": {},
   "outputs": [],
   "source": []
  },
  {
   "cell_type": "markdown",
   "id": "c3e9ed7b",
   "metadata": {},
   "source": [
    "pass by object ref\n",
    "id(variable)"
   ]
  },
  {
   "cell_type": "code",
   "execution_count": 39,
   "id": "26518995",
   "metadata": {},
   "outputs": [
    {
     "name": "stdout",
     "output_type": "stream",
     "text": [
      "140254473929232\n"
     ]
    },
    {
     "data": {
      "text/plain": [
       "140254473929200"
      ]
     },
     "execution_count": 39,
     "metadata": {},
     "output_type": "execute_result"
    }
   ],
   "source": [
    "a = 10\n",
    "print(id(a))\n",
    "a = 9\n",
    "id(a)"
   ]
  },
  {
   "cell_type": "markdown",
   "id": "685cd95d",
   "metadata": {},
   "source": [
    "Object oriented programming in Python"
   ]
  },
  {
   "cell_type": "code",
   "execution_count": null,
   "id": "26d1ddf3",
   "metadata": {},
   "outputs": [],
   "source": []
  },
  {
   "cell_type": "markdown",
   "id": "d6ba36a1",
   "metadata": {},
   "source": [
    "Lists & List functions"
   ]
  },
  {
   "cell_type": "code",
   "execution_count": null,
   "id": "1c186e03",
   "metadata": {},
   "outputs": [],
   "source": []
  },
  {
   "cell_type": "markdown",
   "id": "a3c4e459",
   "metadata": {},
   "source": [
    "Regular Expressions"
   ]
  },
  {
   "cell_type": "code",
   "execution_count": null,
   "id": "d52caa42",
   "metadata": {},
   "outputs": [],
   "source": []
  },
  {
   "cell_type": "markdown",
   "id": "6261e490",
   "metadata": {},
   "source": [
    "List comprehension"
   ]
  },
  {
   "cell_type": "code",
   "execution_count": null,
   "id": "d122d936",
   "metadata": {},
   "outputs": [],
   "source": []
  },
  {
   "cell_type": "markdown",
   "id": "13d06d84",
   "metadata": {},
   "source": [
    "List slicing"
   ]
  },
  {
   "cell_type": "code",
   "execution_count": null,
   "id": "86fda4c2",
   "metadata": {},
   "outputs": [],
   "source": []
  },
  {
   "cell_type": "markdown",
   "id": "45fc1395",
   "metadata": {},
   "source": [
    "String formatting"
   ]
  },
  {
   "cell_type": "markdown",
   "id": "0ff1e925",
   "metadata": {},
   "source": [
    "Lambdas"
   ]
  },
  {
   "cell_type": "markdown",
   "id": "df98caa3",
   "metadata": {},
   "source": [
    "List, Dictionaries & Tuples\n",
    "\n",
    "List is a collection which is ordered and changeable. Allows duplicate members.\n",
    "Tuple is a collection which is ordered and unchangeable. Allows duplicate members.\n",
    "Set is a collection which is unordered, unchangeable*, and unindexed. No duplicate members.\n",
    "Dictionary is a collection which is ordered** and changeable. No duplicate members.\n",
    "\n",
    "For list , it is for mix values\n",
    "For Tuple , when same data type"
   ]
  },
  {
   "cell_type": "code",
   "execution_count": null,
   "id": "2ff1c5bd",
   "metadata": {},
   "outputs": [],
   "source": []
  },
  {
   "cell_type": "code",
   "execution_count": null,
   "id": "9e4dd9b3",
   "metadata": {},
   "outputs": [],
   "source": []
  },
  {
   "cell_type": "code",
   "execution_count": null,
   "id": "1c98b46f",
   "metadata": {},
   "outputs": [],
   "source": []
  },
  {
   "cell_type": "markdown",
   "id": "20d612be",
   "metadata": {},
   "source": [
    "Tuple is immutable ordered, Allow duplicate"
   ]
  },
  {
   "cell_type": "markdown",
   "id": "e0d06997",
   "metadata": {},
   "source": []
  },
  {
   "cell_type": "code",
   "execution_count": null,
   "id": "81d9c589",
   "metadata": {},
   "outputs": [],
   "source": []
  },
  {
   "cell_type": "code",
   "execution_count": null,
   "id": "a7663752",
   "metadata": {},
   "outputs": [],
   "source": []
  },
  {
   "cell_type": "code",
   "execution_count": null,
   "id": "bde65f03",
   "metadata": {},
   "outputs": [],
   "source": []
  },
  {
   "cell_type": "code",
   "execution_count": null,
   "id": "864d3548",
   "metadata": {},
   "outputs": [],
   "source": []
  },
  {
   "cell_type": "code",
   "execution_count": null,
   "id": "0f7777fb",
   "metadata": {},
   "outputs": [],
   "source": []
  },
  {
   "cell_type": "code",
   "execution_count": null,
   "id": "4847b73e",
   "metadata": {},
   "outputs": [],
   "source": []
  },
  {
   "cell_type": "code",
   "execution_count": null,
   "id": "e502dca7",
   "metadata": {},
   "outputs": [],
   "source": []
  },
  {
   "cell_type": "code",
   "execution_count": null,
   "id": "fd07463c",
   "metadata": {},
   "outputs": [],
   "source": []
  },
  {
   "cell_type": "code",
   "execution_count": null,
   "id": "bf93c9d4",
   "metadata": {},
   "outputs": [],
   "source": []
  },
  {
   "cell_type": "code",
   "execution_count": null,
   "id": "09623249",
   "metadata": {},
   "outputs": [],
   "source": []
  },
  {
   "cell_type": "code",
   "execution_count": null,
   "id": "52e481da",
   "metadata": {},
   "outputs": [],
   "source": []
  },
  {
   "cell_type": "code",
   "execution_count": null,
   "id": "439ee886",
   "metadata": {},
   "outputs": [],
   "source": []
  }
 ],
 "metadata": {
  "kernelspec": {
   "display_name": "Python 3 (ipykernel)",
   "language": "python",
   "name": "python3"
  },
  "language_info": {
   "codemirror_mode": {
    "name": "ipython",
    "version": 3
   },
   "file_extension": ".py",
   "mimetype": "text/x-python",
   "name": "python",
   "nbconvert_exporter": "python",
   "pygments_lexer": "ipython3",
   "version": "3.10.4"
  }
 },
 "nbformat": 4,
 "nbformat_minor": 5
}
